{
 "cells": [
  {
   "cell_type": "markdown",
   "metadata": {
    "collapsed": true
   },
   "source": [
    "# Advicing a high-level restaurant company for their next opening in Toronto"
   ]
  },
  {
   "cell_type": "markdown",
   "metadata": {},
   "source": [
    "### Business Problem\n",
    "\n",
    "A holding company dedicated to the culinary industry based in Europe, owner of several restaurant with two and three Michelin stars in the major capitals of Europe has been studying an opening in the new continent.\n",
    "\n",
    "The company's Directive Board have choosed Toronto as their next market due to the concept thought for the next restaurant, cultural and gastronomic aspects of the city and actual market conditions in Canada. So the next step is choose the location for their next saloon.\n",
    "\n",
    "Due to the Directive's lack of knowledge of the city's gastronomic scene, they've been recieving advicing from a Canadian specialist but, also decided to get a second opinion and have double-check the information received.\n",
    "\n",
    "In order to support the Directive border, we suggest an statistical analysis of all the Toronto's neighborhoods to recomemd the best one for the next high-category restaurant opening. In other words, the question is: __Which is(are) the best neighborhoud(s) in Toronto for the company's next high-level restaurant?__ \n"
   ]
  },
  {
   "cell_type": "markdown",
   "metadata": {},
   "source": [
    "### Data\n",
    "\n",
    "For this project, we started by gatering the list of all the Toronto's neighborhoods available in <a href=\"https://en.wikipedia.org/wiki/List_of_postal_codes_of_Canada:_M\">Wikipedia</a>; also we used an .csv obtained from the following <a href=\"http://cocl.us/Geospatial_data\">link</a> with all the geospatial data of each neighborhood in Toronto.\n",
    "\n",
    "The other information required for the analysis will be obtained from <a href=\"https://es.foursquare.com/\">Foursquare</a>, which is all the venues of Toronto, allowing us to analyze the best neighborhoods for our recomendation.    \n"
   ]
  }
 ],
 "metadata": {
  "kernelspec": {
   "display_name": "Python 3.6",
   "language": "python",
   "name": "python3"
  },
  "language_info": {
   "codemirror_mode": {
    "name": "ipython",
    "version": 3
   },
   "file_extension": ".py",
   "mimetype": "text/x-python",
   "name": "python",
   "nbconvert_exporter": "python",
   "pygments_lexer": "ipython3",
   "version": "3.6.9"
  }
 },
 "nbformat": 4,
 "nbformat_minor": 1
}
