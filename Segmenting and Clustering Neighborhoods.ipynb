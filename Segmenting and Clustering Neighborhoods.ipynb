{
 "cells": [
  {
   "cell_type": "markdown",
   "metadata": {},
   "source": [
    "# First part - Segmenting and Clustering Neighborhoods in Toronto"
   ]
  },
  {
   "cell_type": "code",
   "execution_count": 2,
   "metadata": {},
   "outputs": [],
   "source": [
    "import requests\n",
    "import lxml.html as lh\n",
    "import pandas as pd"
   ]
  },
  {
   "cell_type": "code",
   "execution_count": 39,
   "metadata": {},
   "outputs": [],
   "source": [
    "url='https://en.wikipedia.org/wiki/List_of_postal_codes_of_Canada:_M'\n",
    "#Create a handle, page, to handle the contents of the website\n",
    "page = requests.get(url)\n",
    "#Store the contents of the website under doc\n",
    "doc = lh.fromstring(page.content)\n",
    "#Parse data that are stored between <tr>..</tr> of HTML\n",
    "tr_elements = doc.xpath('//tr')"
   ]
  },
  {
   "cell_type": "code",
   "execution_count": 40,
   "metadata": {},
   "outputs": [
    {
     "data": {
      "text/plain": [
       "[3, 3, 3, 3, 3, 3, 3, 3, 3, 3, 3, 3]"
      ]
     },
     "execution_count": 40,
     "metadata": {},
     "output_type": "execute_result"
    }
   ],
   "source": [
    "#Check the length of the first 12 rows\n",
    "[len(T) for T in tr_elements[:12]]"
   ]
  },
  {
   "cell_type": "code",
   "execution_count": 41,
   "metadata": {},
   "outputs": [],
   "source": [
    "tr_elements = doc.xpath('//tr')\n",
    "#Create empty list\n",
    "col=[]\n",
    "i=0\n",
    "#For each row, store each first element (header) and an empty list\n",
    "for t in tr_elements[0]:\n",
    "    i+=1\n",
    "    name=t.text_content()\n",
    "    col.append((name,[]))"
   ]
  },
  {
   "cell_type": "code",
   "execution_count": 42,
   "metadata": {},
   "outputs": [],
   "source": [
    "#Since out first row is the header, data is stored on the second row onwards\n",
    "for j in range(1,len(tr_elements)):\n",
    "    #T is our j'th row\n",
    "    T=tr_elements[j]\n",
    "    \n",
    "    #If row is not of size 10, the //tr data is not from our table \n",
    "    if len(T)!=3:\n",
    "        break\n",
    "    \n",
    "    #i is the index of our column\n",
    "    i=0\n",
    "    \n",
    "    #Iterate through each element of the row\n",
    "    for t in T.iterchildren():\n",
    "        data=t.text_content() \n",
    "        #Check if row is empty\n",
    "        if i>0:\n",
    "        #Convert any numerical value to integers\n",
    "            try:\n",
    "                data=int(data)\n",
    "            except:\n",
    "                pass\n",
    "        #Append the data to the empty list of the i'th column\n",
    "        col[i][1].append(data)\n",
    "        #Increment i for the next column\n",
    "        i+=1"
   ]
  },
  {
   "cell_type": "code",
   "execution_count": 43,
   "metadata": {},
   "outputs": [
    {
     "data": {
      "text/plain": [
       "[181, 181, 181]"
      ]
     },
     "execution_count": 43,
     "metadata": {},
     "output_type": "execute_result"
    }
   ],
   "source": [
    "[len(C) for (title,C) in col]"
   ]
  },
  {
   "cell_type": "code",
   "execution_count": 45,
   "metadata": {},
   "outputs": [],
   "source": [
    "Dict={title:column for (title,column) in col}\n",
    "df=pd.DataFrame(Dict)"
   ]
  },
  {
   "cell_type": "code",
   "execution_count": 54,
   "metadata": {},
   "outputs": [],
   "source": [
    "# replacing the \\n for nothing in the df\n",
    "\n",
    "import numpy\n",
    "\n",
    "def reemplazar(x):\n",
    "    return x.replace('\\n', '')\n",
    "\n",
    "df.columns = ['Postal code', 'Borough', 'Neighborhood']\n",
    "df = df.applymap(reemplazar)"
   ]
  },
  {
   "cell_type": "code",
   "execution_count": 68,
   "metadata": {},
   "outputs": [],
   "source": [
    "# Correcting Neighborhoods '/' for ','\n",
    "\n",
    "def reemplazar(x):\n",
    "    return x.replace(' /', ',')\n",
    "\n",
    "df = df.applymap(reemplazar)"
   ]
  },
  {
   "cell_type": "code",
   "execution_count": 69,
   "metadata": {},
   "outputs": [
    {
     "name": "stdout",
     "output_type": "stream",
     "text": [
      "    Postal code                Borough  \\\n",
      "2           M3A             North York   \n",
      "3           M4A             North York   \n",
      "4           M5A       Downtown Toronto   \n",
      "5           M6A             North York   \n",
      "6           M7A       Downtown Toronto   \n",
      "8           M9A              Etobicoke   \n",
      "9           M1B            Scarborough   \n",
      "11          M3B             North York   \n",
      "12          M4B              East York   \n",
      "13          M5B       Downtown Toronto   \n",
      "14          M6B             North York   \n",
      "17          M9B              Etobicoke   \n",
      "18          M1C            Scarborough   \n",
      "20          M3C             North York   \n",
      "21          M4C              East York   \n",
      "22          M5C       Downtown Toronto   \n",
      "23          M6C                   York   \n",
      "26          M9C              Etobicoke   \n",
      "27          M1E            Scarborough   \n",
      "30          M4E           East Toronto   \n",
      "31          M5E       Downtown Toronto   \n",
      "32          M6E                   York   \n",
      "36          M1G            Scarborough   \n",
      "39          M4G              East York   \n",
      "40          M5G       Downtown Toronto   \n",
      "41          M6G       Downtown Toronto   \n",
      "45          M1H            Scarborough   \n",
      "46          M2H             North York   \n",
      "47          M3H             North York   \n",
      "48          M4H              East York   \n",
      "..          ...                    ...   \n",
      "112         M5R        Central Toronto   \n",
      "113         M6R           West Toronto   \n",
      "114         M7R            Mississauga   \n",
      "116         M9R              Etobicoke   \n",
      "117         M1S            Scarborough   \n",
      "120         M4S        Central Toronto   \n",
      "121         M5S       Downtown Toronto   \n",
      "122         M6S           West Toronto   \n",
      "126         M1T            Scarborough   \n",
      "129         M4T        Central Toronto   \n",
      "130         M5T       Downtown Toronto   \n",
      "135         M1V            Scarborough   \n",
      "138         M4V        Central Toronto   \n",
      "139         M5V       Downtown Toronto   \n",
      "142         M8V              Etobicoke   \n",
      "143         M9V              Etobicoke   \n",
      "144         M1W            Scarborough   \n",
      "147         M4W       Downtown Toronto   \n",
      "148         M5W       Downtown Toronto   \n",
      "151         M8W              Etobicoke   \n",
      "152         M9W              Etobicoke   \n",
      "153         M1X            Scarborough   \n",
      "156         M4X       Downtown Toronto   \n",
      "157         M5X       Downtown Toronto   \n",
      "160         M8X              Etobicoke   \n",
      "165         M4Y       Downtown Toronto   \n",
      "168         M7Y           East Toronto   \n",
      "169         M8Y              Etobicoke   \n",
      "178         M8Z              Etobicoke   \n",
      "180              Canadian postal codes   \n",
      "\n",
      "                                          Neighborhood  \n",
      "2                                            Parkwoods  \n",
      "3                                     Victoria Village  \n",
      "4                            Regent Park, Harbourfront  \n",
      "5                     Lawrence Manor, Lawrence Heights  \n",
      "6          Queen's Park, Ontario Provincial Government  \n",
      "8                                     Islington Avenue  \n",
      "9                                       Malvern, Rouge  \n",
      "11                                           Don Mills  \n",
      "12                     Parkview Hill, Woodbine Gardens  \n",
      "13                            Garden District, Ryerson  \n",
      "14                                           Glencairn  \n",
      "17   West Deane Park, Princess Gardens, Martin Grov...  \n",
      "18              Rouge Hill, Port Union, Highland Creek  \n",
      "20                                           Don Mills  \n",
      "21                                    Woodbine Heights  \n",
      "22                                      St. James Town  \n",
      "23                                  Humewood-Cedarvale  \n",
      "26   Eringate, Bloordale Gardens, Old Burnhamthorpe...  \n",
      "27                   Guildwood, Morningside, West Hill  \n",
      "30                                         The Beaches  \n",
      "31                                         Berczy Park  \n",
      "32                                 Caledonia-Fairbanks  \n",
      "36                                              Woburn  \n",
      "39                                             Leaside  \n",
      "40                                  Central Bay Street  \n",
      "41                                            Christie  \n",
      "45                                           Cedarbrae  \n",
      "46                                   Hillcrest Village  \n",
      "47     Bathurst Manor, Wilson Heights, Downsview North  \n",
      "48                                    Thorncliffe Park  \n",
      "..                                                 ...  \n",
      "112                The Annex, North Midtown, Yorkville  \n",
      "113                             Parkdale, Roncesvalles  \n",
      "114              Canada Post Gateway Processing Centre  \n",
      "116  Kingsview Village, St. Phillips, Martin Grove ...  \n",
      "117                                          Agincourt  \n",
      "120                                         Davisville  \n",
      "121                     University of Toronto, Harbord  \n",
      "122                                 Runnymede, Swansea  \n",
      "126            Clarks Corners, Tam O'Shanter, Sullivan  \n",
      "129                        Moore Park, Summerhill East  \n",
      "130          Kensington Market, Chinatown, Grange Park  \n",
      "135  Milliken, Agincourt North, Steeles East, L'Amo...  \n",
      "138  Summerhill West, Rathnelly, South Hill, Forest...  \n",
      "139  CN Tower, King and Spadina, Railway Lands, Har...  \n",
      "142       New Toronto, Mimico South, Humber Bay Shores  \n",
      "143  South Steeles, Silverstone, Humbergate, Jamest...  \n",
      "144                      Steeles West, L'Amoreaux West  \n",
      "147                                           Rosedale  \n",
      "148                                     Stn A PO Boxes  \n",
      "151                             Alderwood, Long Branch  \n",
      "152                                          Northwest  \n",
      "153                                        Upper Rouge  \n",
      "156                        St. James Town, Cabbagetown  \n",
      "157             First Canadian Place, Underground city  \n",
      "160     The Kingsway, Montgomery Road , Old Mill North  \n",
      "165                               Church and Wellesley  \n",
      "168              Business reply mail Processing CentrE  \n",
      "169  Old Mill South, King's Mill Park, Sunnylea, Hu...  \n",
      "178  Mimico NW, The Queensway West, South of Bloor,...  \n",
      "180                                                     \n",
      "\n",
      "[104 rows x 3 columns]\n"
     ]
    }
   ],
   "source": [
    "print(df)"
   ]
  },
  {
   "cell_type": "code",
   "execution_count": 71,
   "metadata": {},
   "outputs": [],
   "source": [
    "# droping not assigned\n",
    "\n",
    "# axis = 1 colums\n",
    "# axis = 0 index\n",
    "\n",
    "# Names of indexes where Borough == 'Not assigned'\n",
    "indexNames = df[ df['Borough'] =='Not assigned'].index\n",
    "\n",
    "# Delete rows\n",
    "df.drop(indexNames , inplace=True)"
   ]
  },
  {
   "cell_type": "code",
   "execution_count": 72,
   "metadata": {
    "scrolled": true
   },
   "outputs": [],
   "source": [
    "# combine rows will be same postalcode, combining into one row with the neighborhoods separated with a comma\n",
    "\n",
    "result = df.groupby(['Postal code','Borough'], sort=False).agg( ', '.join)"
   ]
  },
  {
   "cell_type": "code",
   "execution_count": 73,
   "metadata": {},
   "outputs": [],
   "source": [
    "df_new=result.reset_index()"
   ]
  },
  {
   "cell_type": "code",
   "execution_count": 74,
   "metadata": {},
   "outputs": [
    {
     "data": {
      "text/html": [
       "<div>\n",
       "<style scoped>\n",
       "    .dataframe tbody tr th:only-of-type {\n",
       "        vertical-align: middle;\n",
       "    }\n",
       "\n",
       "    .dataframe tbody tr th {\n",
       "        vertical-align: top;\n",
       "    }\n",
       "\n",
       "    .dataframe thead th {\n",
       "        text-align: right;\n",
       "    }\n",
       "</style>\n",
       "<table border=\"1\" class=\"dataframe\">\n",
       "  <thead>\n",
       "    <tr style=\"text-align: right;\">\n",
       "      <th></th>\n",
       "      <th>Postal code</th>\n",
       "      <th>Borough</th>\n",
       "      <th>Neighborhood</th>\n",
       "    </tr>\n",
       "  </thead>\n",
       "  <tbody>\n",
       "    <tr>\n",
       "      <th>0</th>\n",
       "      <td>M3A</td>\n",
       "      <td>North York</td>\n",
       "      <td>Parkwoods</td>\n",
       "    </tr>\n",
       "    <tr>\n",
       "      <th>1</th>\n",
       "      <td>M4A</td>\n",
       "      <td>North York</td>\n",
       "      <td>Victoria Village</td>\n",
       "    </tr>\n",
       "    <tr>\n",
       "      <th>2</th>\n",
       "      <td>M5A</td>\n",
       "      <td>Downtown Toronto</td>\n",
       "      <td>Regent Park, Harbourfront</td>\n",
       "    </tr>\n",
       "    <tr>\n",
       "      <th>3</th>\n",
       "      <td>M6A</td>\n",
       "      <td>North York</td>\n",
       "      <td>Lawrence Manor, Lawrence Heights</td>\n",
       "    </tr>\n",
       "    <tr>\n",
       "      <th>4</th>\n",
       "      <td>M7A</td>\n",
       "      <td>Downtown Toronto</td>\n",
       "      <td>Queen's Park, Ontario Provincial Government</td>\n",
       "    </tr>\n",
       "    <tr>\n",
       "      <th>5</th>\n",
       "      <td>M9A</td>\n",
       "      <td>Etobicoke</td>\n",
       "      <td>Islington Avenue</td>\n",
       "    </tr>\n",
       "    <tr>\n",
       "      <th>6</th>\n",
       "      <td>M1B</td>\n",
       "      <td>Scarborough</td>\n",
       "      <td>Malvern, Rouge</td>\n",
       "    </tr>\n",
       "    <tr>\n",
       "      <th>7</th>\n",
       "      <td>M3B</td>\n",
       "      <td>North York</td>\n",
       "      <td>Don Mills</td>\n",
       "    </tr>\n",
       "    <tr>\n",
       "      <th>8</th>\n",
       "      <td>M4B</td>\n",
       "      <td>East York</td>\n",
       "      <td>Parkview Hill, Woodbine Gardens</td>\n",
       "    </tr>\n",
       "    <tr>\n",
       "      <th>9</th>\n",
       "      <td>M5B</td>\n",
       "      <td>Downtown Toronto</td>\n",
       "      <td>Garden District, Ryerson</td>\n",
       "    </tr>\n",
       "    <tr>\n",
       "      <th>10</th>\n",
       "      <td>M6B</td>\n",
       "      <td>North York</td>\n",
       "      <td>Glencairn</td>\n",
       "    </tr>\n",
       "    <tr>\n",
       "      <th>11</th>\n",
       "      <td>M9B</td>\n",
       "      <td>Etobicoke</td>\n",
       "      <td>West Deane Park, Princess Gardens, Martin Grov...</td>\n",
       "    </tr>\n",
       "    <tr>\n",
       "      <th>12</th>\n",
       "      <td>M1C</td>\n",
       "      <td>Scarborough</td>\n",
       "      <td>Rouge Hill, Port Union, Highland Creek</td>\n",
       "    </tr>\n",
       "    <tr>\n",
       "      <th>13</th>\n",
       "      <td>M3C</td>\n",
       "      <td>North York</td>\n",
       "      <td>Don Mills</td>\n",
       "    </tr>\n",
       "    <tr>\n",
       "      <th>14</th>\n",
       "      <td>M4C</td>\n",
       "      <td>East York</td>\n",
       "      <td>Woodbine Heights</td>\n",
       "    </tr>\n",
       "  </tbody>\n",
       "</table>\n",
       "</div>"
      ],
      "text/plain": [
       "   Postal code           Borough  \\\n",
       "0          M3A        North York   \n",
       "1          M4A        North York   \n",
       "2          M5A  Downtown Toronto   \n",
       "3          M6A        North York   \n",
       "4          M7A  Downtown Toronto   \n",
       "5          M9A         Etobicoke   \n",
       "6          M1B       Scarborough   \n",
       "7          M3B        North York   \n",
       "8          M4B         East York   \n",
       "9          M5B  Downtown Toronto   \n",
       "10         M6B        North York   \n",
       "11         M9B         Etobicoke   \n",
       "12         M1C       Scarborough   \n",
       "13         M3C        North York   \n",
       "14         M4C         East York   \n",
       "\n",
       "                                         Neighborhood  \n",
       "0                                           Parkwoods  \n",
       "1                                    Victoria Village  \n",
       "2                           Regent Park, Harbourfront  \n",
       "3                    Lawrence Manor, Lawrence Heights  \n",
       "4         Queen's Park, Ontario Provincial Government  \n",
       "5                                    Islington Avenue  \n",
       "6                                      Malvern, Rouge  \n",
       "7                                           Don Mills  \n",
       "8                     Parkview Hill, Woodbine Gardens  \n",
       "9                            Garden District, Ryerson  \n",
       "10                                          Glencairn  \n",
       "11  West Deane Park, Princess Gardens, Martin Grov...  \n",
       "12             Rouge Hill, Port Union, Highland Creek  \n",
       "13                                          Don Mills  \n",
       "14                                   Woodbine Heights  "
      ]
     },
     "execution_count": 74,
     "metadata": {},
     "output_type": "execute_result"
    }
   ],
   "source": [
    "df_new.head(15)"
   ]
  },
  {
   "cell_type": "code",
   "execution_count": 75,
   "metadata": {},
   "outputs": [
    {
     "data": {
      "text/plain": [
       "(104, 3)"
      ]
     },
     "execution_count": 75,
     "metadata": {},
     "output_type": "execute_result"
    }
   ],
   "source": [
    "df.shape"
   ]
  }
 ],
 "metadata": {
  "kernelspec": {
   "display_name": "Python 3.6",
   "language": "python",
   "name": "python3"
  },
  "language_info": {
   "codemirror_mode": {
    "name": "ipython",
    "version": 3
   },
   "file_extension": ".py",
   "mimetype": "text/x-python",
   "name": "python",
   "nbconvert_exporter": "python",
   "pygments_lexer": "ipython3",
   "version": "3.6.9"
  }
 },
 "nbformat": 4,
 "nbformat_minor": 1
}
